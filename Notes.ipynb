{
 "cells": [
  {
   "cell_type": "markdown",
   "metadata": {},
   "source": [
    "# JAX Learning Notes\n",
    "## Overview\n",
    "\n",
    "![Alt text](image.png)\n",
    "![Alt text](image-1.png)\n",
    "\n",
    "- Several python libraries use JAX as a backend, including:\n",
    "    - Flax, a high level [neural network](https://en.wikipedia.org/wiki/Neural_network) library initially developed by [Google Brain](https://en.wikipedia.org/wiki/Google_Brain).[[6]](https://en.wikipedia.org/wiki/Google_JAX#cite_note-6)\n",
    "    - Equinox, a library that revolves around the idea of representing parameterised functions (including [neural networks](https://en.wikipedia.org/wiki/Neural_network)) as PyTrees. It was created by Patrick Kidger.[[7]](https://en.wikipedia.org/wiki/Google_JAX#cite_note-7)\n",
    "    - Diffrax, a library for [the numerical solution of differential equations](https://en.wikipedia.org/wiki/Numerical_methods_for_ordinary_differential_equations), such as [ordinary differential equations](https://en.wikipedia.org/wiki/Ordinary_differential_equation) and [stochastic differential equations](https://en.wikipedia.org/wiki/Stochastic_differential_equation).[[8]](https://en.wikipedia.org/wiki/Google_JAX#cite_note-8)\n",
    "    - Optax, a library for gradient processing and [optimisation](https://en.wikipedia.org/wiki/Mathematical_optimization) developed by [DeepMind](https://en.wikipedia.org/wiki/DeepMind).[[9]](https://en.wikipedia.org/wiki/Google_JAX#cite_note-9)\n",
    "    - Lineax, a library for [numerically solving linear systems](https://en.wikipedia.org/wiki/System_of_linear_equations) and [linear least squares](https://en.wikipedia.org/wiki/Numerical_methods_for_linear_least_squares).[[10]](https://en.wikipedia.org/wiki/Google_JAX#cite_note-10)\n",
    "    - RLax, a library for developing [reinforcement learning](https://en.wikipedia.org/wiki/Reinforcement_learning) agents developed by [DeepMind](https://en.wikipedia.org/wiki/DeepMind).[[11]](https://en.wikipedia.org/wiki/Google_JAX#cite_note-11)\n",
    "    - jraph, a library for [graph neural networks](https://en.wikipedia.org/wiki/Graph_neural_network), developed by DeepMind.[[12]](https://en.wikipedia.org/wiki/Google_JAX#cite_note-12)\n",
    "    - jaxtyping, a library for adding [type annotations](https://en.wikipedia.org/wiki/Type_signature) [[13]](https://en.wikipedia.org/wiki/Google_JAX#cite_note-13)for the shape and data type (\"dtype\") of arrays or tensors.[[14]](https://en.wikipedia.org/wiki/Google_JAX#cite_note-14)"
   ]
  },
  {
   "cell_type": "code",
   "execution_count": null,
   "metadata": {},
   "outputs": [],
   "source": [
    "!pip install jax"
   ]
  }
 ],
 "metadata": {
  "kernelspec": {
   "display_name": "base",
   "language": "python",
   "name": "python3"
  },
  "language_info": {
   "name": "python",
   "version": "3.8.12"
  }
 },
 "nbformat": 4,
 "nbformat_minor": 2
}
